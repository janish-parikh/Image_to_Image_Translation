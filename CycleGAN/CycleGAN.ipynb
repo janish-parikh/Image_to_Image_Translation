{
  "cells": [
    {
      "cell_type": "markdown",
      "metadata": {
        "id": "6Y60e3m2FRZY"
      },
      "source": [
        "## Import necessary packages\n"
      ]
    },
    {
      "cell_type": "code",
      "execution_count": null,
      "metadata": {
        "id": "dWN63EToZA-G"
      },
      "outputs": [],
      "source": [
        "import torch\n",
        "import ignite\n",
        "import random\n",
        "from torch.utils.data import Dataset, DataLoader\n",
        "from PIL import Image\n",
        "from ignite.engine import Engine, Events\n",
        "from ignite.metrics import RunningAverage,FID,InceptionScore, SSIM\n",
        "\n",
        "from ignite.contrib.handlers import TensorboardLogger, WandBLogger\n",
        "from ignite.contrib.handlers.wandb_logger import OptimizerParamsHandler as wbop, OutputHandler as wboh\n",
        "\n",
        "from ignite.contrib.handlers.tensorboard_logger import OutputHandler, OptimizerParamsHandler\n",
        "import matplotlib.pylab as plt\n",
        "%matplotlib inline"
      ]
    },
    {
      "cell_type": "markdown",
      "metadata": {
        "id": "20G39vEqFRaA"
      },
      "source": [
        "## Data Loading and Pre-processing"
      ]
    },
    {
      "cell_type": "code",
      "execution_count": null,
      "metadata": {
        "id": "nOr3nd4qFRaB"
      },
      "outputs": [],
      "source": [
        "\n",
        "class FilesDataset(Dataset):\n",
        "    \n",
        "    def __init__(self, path, extension=\"*.png\"):\n",
        "        self.path = Path(path)\n",
        "        assert self.path.exists(), \"Path '{}' is not found\".format(path)\n",
        "        self.images = list(self.path.rglob(extension))\n",
        "        assert len(self.images) > 0, \"No images with extension {} found at '{}'\".format(extension, path)\n",
        "        \n",
        "    def __len__(self):\n",
        "        return len(self.images)\n",
        "    \n",
        "    def __getitem__(self, i):\n",
        "        return Image.open(self.images[i]).convert('RGB')\n",
        "\n",
        "\n",
        "class FilesDataset2(Dataset):\n",
        "    \n",
        "    def __init__(self, path, extension=\"*.jpg\"):\n",
        "        self.path = Path(path)\n",
        "        assert self.path.exists(), \"Path '{}' is not found\".format(path)\n",
        "        self.images = list(self.path.rglob(extension))\n",
        "        assert len(self.images) > 0, \"No images with extension {} found at '{}'\".format(extension, path)\n",
        "        \n",
        "    def __len__(self):\n",
        "        return len(self.images)\n",
        "    \n",
        "    def __getitem__(self, i):\n",
        "        return Image.open(self.images[i]).convert('RGB')        "
      ]
    },
    {
      "cell_type": "code",
      "execution_count": null,
      "metadata": {
        "id": "byG73rBHFRaG"
      },
      "outputs": [],
      "source": [
        "from pathlib import Path\n",
        "\n",
        "root = Path(\"pizza\")\n",
        "#Datasets\n",
        "live_train = FilesDataset(\"/common/home/jrp328/Downloads/Cyclegan/dataset/live train\")\n",
        "real_train = FilesDataset2(\"/common/home/jrp328/Downloads/Cyclegan/dataset/real train\")\n",
        "\n",
        "live_test = FilesDataset(\"/common/home/jrp328/Downloads/Cyclegan/dataset/live test\") \n",
        "real_test = FilesDataset2(\"/common/home/jrp328/Downloads/Cyclegan/dataset/real test\")"
      ]
    },
    {
      "cell_type": "markdown",
      "metadata": {
        "id": "Kv1oXmSJFRaK"
      },
      "source": [
        "#### Dataset details:"
      ]
    },
    {
      "cell_type": "code",
      "execution_count": null,
      "metadata": {
        "id": "UZ4rY5S9FRaL",
        "outputId": "a2b51709-1544-4e43-b9b1-6d4f10edae03"
      },
      "outputs": [],
      "source": [
        "print(\"Dataset sizes: \\n Live Pizza Train: {} | Real Pizza Train: {}\\n Live Pizza Test: {} | Real Pizza Test: {}\\n\\t\".format(len(live_train), len(real_train), len(live_test), len(real_test)))"
      ]
    },
    {
      "cell_type": "code",
      "execution_count": null,
      "metadata": {
        "colab": {
          "base_uri": "https://localhost:8080/",
          "height": 335
        },
        "id": "Xx7cAEI0FRah",
        "outputId": "bfd5c67d-12c1-46ce-be65-b7f62aa9ea7a"
      },
      "outputs": [],
      "source": [
        "plt.figure(figsize=(10, 5))\n",
        "plt.subplot(121)\n",
        "plt.title(\"Train dataset 'Real Pizza'\")\n",
        "plt.imshow(real_train[10])\n",
        "plt.subplot(122)\n",
        "plt.title(\"Train dataset 'Live Pizza'\")\n",
        "plt.imshow(live_train[10])"
      ]
    },
    {
      "cell_type": "markdown",
      "metadata": {
        "id": "gc6ZuUWwFRas"
      },
      "source": [
        "#### Dataset composed of random image pairs of datasets A and B"
      ]
    },
    {
      "cell_type": "code",
      "execution_count": null,
      "metadata": {
        "id": "B699THXXFRat"
      },
      "outputs": [],
      "source": [
        "import random\n",
        "\n",
        "\n",
        "class Image2ImageDataset(Dataset):\n",
        "    \n",
        "    def __init__(self, ds_a, ds_b):\n",
        "        self.dataset_a = ds_a\n",
        "        self.dataset_b = ds_b\n",
        "    \n",
        "    def __len__(self):\n",
        "        return max(len(self.dataset_a), len(self.dataset_b))\n",
        "\n",
        "    def __getitem__(self, i):\n",
        "        dp_a = self.dataset_a[i % len(self.dataset_a)]\n",
        "        j = random.randint(0, len(self.dataset_b) - 1)\n",
        "        dp_b = self.dataset_b[j]\n",
        "        return {\n",
        "            'A': dp_a,\n",
        "            'B': dp_b\n",
        "        }\n",
        "\n",
        "\n",
        "class TransformedDataset(Dataset):\n",
        "        \n",
        "    def __init__(self, ds, transform):\n",
        "        self.dataset = ds\n",
        "        self.transform = transform\n",
        "        \n",
        "    def __len__(self):\n",
        "        return len(self.dataset)\n",
        "    \n",
        "    def __getitem__(self, i):\n",
        "        return {k: self.transform(v) for k, v in self.dataset[i].items()}"
      ]
    },
    {
      "cell_type": "code",
      "execution_count": null,
      "metadata": {
        "id": "RF6OQwxoFRax"
      },
      "outputs": [],
      "source": [
        "train_ab_ds = Image2ImageDataset(live_train, real_train)\n",
        "test_ab_ds = Image2ImageDataset(live_test,real_test)"
      ]
    },
    {
      "cell_type": "code",
      "execution_count": null,
      "metadata": {
        "colab": {
          "base_uri": "https://localhost:8080/",
          "height": 335
        },
        "id": "X3zfGZoOFRa6",
        "outputId": "01f99b0f-7f17-4914-8a38-0590e75c7f5e"
      },
      "outputs": [],
      "source": [
        "dp = test_ab_ds[20]\n",
        "\n",
        "plt.figure(figsize=(10, 5))\n",
        "plt.subplot(121)\n",
        "plt.title(\"Test dataset 'Live Pizza'\")\n",
        "plt.imshow(dp['A'])\n",
        "plt.subplot(122)\n",
        "plt.title(\"Test dataset 'Real Pizza'\")\n",
        "plt.imshow(dp['B'])"
      ]
    },
    {
      "cell_type": "markdown",
      "metadata": {},
      "source": [
        "#### Pre-processing"
      ]
    },
    {
      "cell_type": "code",
      "execution_count": null,
      "metadata": {
        "id": "q2Hda4tjFRa-"
      },
      "outputs": [],
      "source": [
        "from torchvision.transforms import Compose, ColorJitter, RandomHorizontalFlip, ToTensor, Normalize, RandomCrop,Resize\n",
        "\n",
        "# here we are resizing to scale images which are not of size 256*256 to accomodate them \n",
        "train_transform = Compose([\n",
        "    Resize(256),                 \n",
        "    RandomCrop(256),\n",
        "    RandomHorizontalFlip(),\n",
        "    ColorJitter(),\n",
        "    ToTensor(),\n",
        "    Normalize(mean=(0.5, 0.5, 0.5), std=(0.5, 0.5, 0.5))\n",
        "])\n",
        "transformed_train_ab_ds = TransformedDataset(train_ab_ds, transform=train_transform)\n",
        "\n",
        "\n",
        "batch_size = 1\n",
        "train_ab_loader = DataLoader(transformed_train_ab_ds, batch_size=batch_size, shuffle=True, drop_last=True, pin_memory=True, num_workers=4)\n",
        "\n",
        "\n",
        "test_transform = Compose([\n",
        "    Resize(256),\n",
        "    RandomCrop(256),\n",
        "    ToTensor(),\n",
        "    Normalize(mean=(0.5, 0.5, 0.5), std=(0.5, 0.5, 0.5))\n",
        "])\n",
        "transformed_test_ab_ds = TransformedDataset(test_ab_ds, transform=test_transform)\n",
        "batch_size = 1\n",
        "test_ab_loader = DataLoader(transformed_test_ab_ds, batch_size=batch_size, shuffle=False, drop_last=False, pin_memory=True, num_workers=4)"
      ]
    },
    {
      "cell_type": "markdown",
      "metadata": {
        "id": "RlZ39Id-FRbF"
      },
      "source": [
        "## Generator Architecture\n",
        "\n",
        "- Generator network architecture contains 9 residual blocks\n",
        "\n",
        "Using paper's notations:\n",
        "```\n",
        "c7s1-64,d128,d256,R256,R256,R256,R256,R256,R256,R256,R256,R256,u128,u64,c7s1-3,tanh\n",
        "```\n",
        "where `c7s1-k` denotes a 7x7 Convolution-InstanceNorm-ReLU layer with `k` filters and stride 1. `dk` denotes a 3x3 Convolution-InstanceNorm-ReLU layer  with `k` filters and stride 2. Reflection padding was used to reduce artifacts. `Rk` denotes a residual block that contains two 3x3 convolutional layers with the same number of filters on both layer. `uk` denotes a 3x3 fractional-strided-Convolution-InstanceNorm-ReLU layer with `k` filters and stride 1/2."
      ]
    },
    {
      "cell_type": "code",
      "execution_count": null,
      "metadata": {
        "id": "Ri6_NvWfFRbG"
      },
      "outputs": [],
      "source": [
        "import torch\n",
        "import torch.nn as nn\n",
        "\n",
        "\n",
        "def get_conv_inorm_relu(in_planes, out_planes, kernel_size, stride, reflection_pad=True, with_relu=True):\n",
        "    layers = []\n",
        "    padding = (kernel_size - 1) // 2\n",
        "    if reflection_pad:\n",
        "        layers.append(nn.ReflectionPad2d(padding=padding))\n",
        "        padding = 0\n",
        "    layers += [\n",
        "        nn.Conv2d(in_planes, out_planes, kernel_size=kernel_size, stride=stride, padding=padding),\n",
        "        nn.InstanceNorm2d(out_planes, affine=False, track_running_stats=False),\n",
        "    ]\n",
        "    if with_relu:\n",
        "        layers.append(nn.ReLU(inplace=True))\n",
        "    return nn.Sequential(*layers)\n",
        "\n",
        "\n",
        "def get_conv_transposed_inorm_relu(in_planes, out_planes, kernel_size, stride):\n",
        "    return nn.Sequential(\n",
        "        nn.ConvTranspose2d(in_planes, out_planes, kernel_size=kernel_size, stride=stride, padding=1, output_padding=1),\n",
        "        nn.InstanceNorm2d(out_planes, affine=False, track_running_stats=False),\n",
        "        nn.ReLU(inplace=True)\n",
        "    )\n",
        "\n",
        "\n",
        "class ResidualBlock(nn.Module):\n",
        "    \n",
        "    def __init__(self, in_planes):\n",
        "        super(ResidualBlock, self).__init__()\n",
        "        self.conv1 = get_conv_inorm_relu(in_planes, in_planes, kernel_size=3, stride=1)\n",
        "        self.conv2 = get_conv_inorm_relu(in_planes, in_planes, kernel_size=3, stride=1, with_relu=False)        \n",
        "\n",
        "    def forward(self, x):\n",
        "        residual = x\n",
        "        x = self.conv1(x)\n",
        "        x = self.conv2(x)        \n",
        "        return x + residual\n",
        "\n",
        "\n",
        "class Generator(nn.Module):\n",
        "    \n",
        "    def __init__(self):\n",
        "        super(Generator, self).__init__()\n",
        "        \n",
        "        self.c7s1_64 = get_conv_inorm_relu(3, 64, kernel_size=7, stride=1)\n",
        "        self.d128 = get_conv_inorm_relu(64, 128, kernel_size=3, stride=2, reflection_pad=False)\n",
        "        self.d256 = get_conv_inorm_relu(128, 256, kernel_size=3, stride=2, reflection_pad=False)\n",
        "\n",
        "        self.resnet9 = nn.Sequential(*[ResidualBlock(256) for i in range(9)])\n",
        "\n",
        "        self.u128 = get_conv_transposed_inorm_relu(256, 128, kernel_size=3, stride=2)\n",
        "        self.u64 = get_conv_transposed_inorm_relu(128, 64, kernel_size=3, stride=2)\n",
        "        self.c7s1_3 = get_conv_inorm_relu(64, 3, kernel_size=7, stride=1, with_relu=False)\n",
        "        # Replace instance norm by tanh activation\n",
        "        self.c7s1_3[-1] = nn.Tanh()\n",
        "\n",
        "    def forward(self, x):\n",
        "        # Encoding\n",
        "        x = self.c7s1_64(x)\n",
        "        x = self.d128(x)\n",
        "        x = self.d256(x)\n",
        "        \n",
        "        # 9 residual blocks\n",
        "        x = self.resnet9(x)\n",
        "\n",
        "        # Decoding\n",
        "        x = self.u128(x)\n",
        "        x = self.u64(x)\n",
        "        y = self.c7s1_3(x)\n",
        "        return y\n"
      ]
    },
    {
      "cell_type": "markdown",
      "metadata": {
        "id": "Mb_6xzMvFRbP"
      },
      "source": [
        "## Discriminator Architecture\n",
        "\n",
        "- Discriminator network is a PatchGAN (with receptive field 70x70):\n",
        "```\n",
        "C64-C128-C256-C512\n",
        "```\n",
        "where `Ck` denote a 4x4 Convolution-InstanceNorm-LeakyReLU layer with `k` filters and stride 2. After the last layer, \n",
        "a convolution to produce a 1-dimensional output is applied. No `InstanceNorm` for the first `C64` layer. Leaky ReLUs are with a slope of `0.2`. \n",
        "\n",
        "\n",
        "```\n",
        "In fact, a \"PatchGAN\" is just a convnet! Or you could say all convnets are patchnets: the power of convnets is that they process each image patch identically and independently, which makes things very cheap (# params, time, memory), and, amazingly, turns out to work.\n",
        "\n",
        "The difference between a PatchGAN and regular GAN discriminator is that rather the regular GAN maps from a 256x256 image to a single scalar output, which signifies \"real\" or \"fake\", whereas the PatchGAN maps from 256x256 to an NxN array of outputs X, where each X_ij signifies whether the patch ij in the image is real or fake. Which is patch ij in the input? Well, output X_ij is just a neuron in a convnet, and we can trace back its receptive field to see which input pixels it is sensitive to. In the CycleGAN architecture, the receptive fields of the discriminator turn out to be 70x70 patches in the input image!\n",
        "\n",
        "This is all mathematically equivalent to if we had manually chopped up the image into 70x70 overlapping patches, run a regular discriminator over each patch, and averaged the results.\n",
        "\n",
        "```\n",
        "\n",
        "Source:[this comment](https://github.com/junyanz/pytorch-CycleGAN-and-pix2pix/issues/39#issuecomment-305575964):"
      ]
    },
    {
      "cell_type": "code",
      "execution_count": null,
      "metadata": {
        "id": "rdb5-RAYFRbR"
      },
      "outputs": [],
      "source": [
        "def get_conv_inorm_lrelu(in_planes, out_planes, stride=2, negative_slope=0.2):\n",
        "    return nn.Sequential(\n",
        "        nn.Conv2d(in_planes, out_planes, kernel_size=4, stride=stride, padding=1),\n",
        "        nn.InstanceNorm2d(out_planes, affine=False, track_running_stats=False),\n",
        "        nn.LeakyReLU(negative_slope=negative_slope, inplace=True)\n",
        "    )\n",
        "\n",
        "\n",
        "class Discriminator(nn.Module):\n",
        "\n",
        "    def __init__(self):\n",
        "        super(Discriminator, self).__init__()\n",
        "        self.c64 = nn.Conv2d(3, 64, kernel_size=4, stride=2, padding=1)\n",
        "        self.relu = nn.LeakyReLU(0.2, inplace=True)\n",
        "        self.c128 = get_conv_inorm_lrelu(64, 128)\n",
        "        self.c256 = get_conv_inorm_lrelu(128, 256)\n",
        "        self.c512 = get_conv_inorm_lrelu(256, 512, stride=1)\n",
        "        self.last_conv = nn.Conv2d(512, 1, kernel_size=4, stride=1, padding=1)\n",
        "\n",
        "    def forward(self, x):\n",
        "        x = self.c64(x)\n",
        "        x = self.relu(x)\n",
        "\n",
        "        x = self.c128(x)\n",
        "        x = self.c256(x)\n",
        "        x = self.c512(x)\n",
        "        y = self.last_conv(x)\n",
        "        return y\n"
      ]
    },
    {
      "cell_type": "markdown",
      "metadata": {
        "id": "orcYUiDfFRbZ"
      },
      "source": [
        "#### Weights are initialized from a Gaussian distribution $\\mathcal{N}(0,0.02)$"
      ]
    },
    {
      "cell_type": "code",
      "execution_count": null,
      "metadata": {
        "id": "2vId72FGFRba"
      },
      "outputs": [],
      "source": [
        "def init_weights(module):\n",
        "    assert isinstance(module, nn.Module)\n",
        "    if hasattr(module, \"weight\") and module.weight is not None:\n",
        "        torch.nn.init.normal_(module.weight, mean=0.0, std=0.02)\n",
        "    if hasattr(module, \"bias\") and module.bias is not None:\n",
        "        torch.nn.init.constant_(module.bias, 0.0)\n",
        "    for c in module.children():\n",
        "        init_weights(c)\n",
        "\n",
        "g = None; d = None"
      ]
    },
    {
      "cell_type": "markdown",
      "metadata": {
        "id": "lUG71td9FRbg"
      },
      "source": [
        "## Networks training"
      ]
    },
    {
      "cell_type": "code",
      "execution_count": null,
      "metadata": {
        "id": "ozU5CQ9JFRbh"
      },
      "outputs": [],
      "source": [
        "assert torch.backends.cudnn.enabled\n",
        "torch.backends.cudnn.benchmark = True"
      ]
    },
    {
      "cell_type": "markdown",
      "metadata": {
        "id": "hOF2d97cHi_V"
      },
      "source": [
        "#### Intialize the models with weights"
      ]
    },
    {
      "cell_type": "code",
      "execution_count": null,
      "metadata": {
        "id": "-zZ5ZuXGFRbl"
      },
      "outputs": [],
      "source": [
        "# device = \"cuda\"\n",
        "device = torch.device(\"cuda\" if torch.cuda.is_available() else \"cpu\")\n",
        "\n",
        "generator_A2B = Generator().to(device)\n",
        "init_weights(generator_A2B)\n",
        "\n",
        "discriminator_B = Discriminator().to(device)\n",
        "init_weights(discriminator_B)\n",
        "\n",
        "generator_B2A = Generator().to(device)\n",
        "init_weights(generator_B2A)\n",
        "discriminator_A = Discriminator().to(device)\n",
        "init_weights(discriminator_A)"
      ]
    },
    {
      "cell_type": "markdown",
      "metadata": {
        "id": "f90Ew1kaFRbo"
      },
      "source": [
        "#### Train the networks with a learning rate of `0.0002`."
      ]
    },
    {
      "cell_type": "code",
      "execution_count": null,
      "metadata": {
        "id": "YbgTEAMCFRbo"
      },
      "outputs": [],
      "source": [
        "from itertools import chain\n",
        "import torch.optim as optim\n",
        "\n",
        "#leaning rate\n",
        "lr = 0.0002\n",
        "\n",
        "beta1 = 0.5\n",
        "\n",
        "# optimizer\n",
        "optimizer_G = optim.Adam(chain(generator_A2B.parameters(), generator_B2A.parameters()), lr=lr, betas=(beta1, 0.999))\n",
        "optimizer_D = optim.Adam(chain(discriminator_A.parameters(), discriminator_B.parameters()), lr=lr, betas=(beta1, 0.999))"
      ]
    },
    {
      "cell_type": "markdown",
      "metadata": {
        "id": "Gs9la9yqFRbr"
      },
      "source": [
        "Let's define some helper functions:\n",
        "- to turn on/off gradients"
      ]
    },
    {
      "cell_type": "code",
      "execution_count": null,
      "metadata": {
        "id": "p82seQ9JFRbs"
      },
      "outputs": [],
      "source": [
        "def toggle_grad(model, on_or_off):\n",
        "    # https://github.com/ajbrock/BigGAN-PyTorch/blob/master/utils.py#L674\n",
        "    for param in model.parameters():\n",
        "        param.requires_grad = on_or_off"
      ]
    },
    {
      "cell_type": "markdown",
      "metadata": {
        "id": "wTF4p83kFRbv"
      },
      "source": [
        "### Fake images buffer trick\n",
        "\n",
        "As per the paper, to reduce model oscillation and the discriminators are updated using a history of generated images rather than the ones produced by the latest generators. \n",
        "\n",
        "There is an image buffer that stores the X previously created images."
      ]
    },
    {
      "cell_type": "code",
      "execution_count": null,
      "metadata": {
        "id": "jyghMWUPFRbw"
      },
      "outputs": [],
      "source": [
        "buffer_size = 50\n",
        "fake_a_buffer = []\n",
        "fake_b_buffer = []\n",
        "\n",
        "\n",
        "def buffer_insert_and_get(buffer, batch):\n",
        "    output_batch = []\n",
        "    for b in batch:\n",
        "        b = b.unsqueeze(0)\n",
        "        # if buffer is not fully filled:\n",
        "        if len(buffer) < buffer_size:\n",
        "            output_batch.append(b)\n",
        "            buffer.append(b.cpu())\n",
        "        elif random.uniform(0, 1) > 0.5:\n",
        "            # Add newly created image into the buffer and put ont from the buffer into the output\n",
        "            random_index = random.randint(0, buffer_size - 1)            \n",
        "            output_batch.append(buffer[random_index].clone().to(device))\n",
        "            buffer[random_index] = b.cpu()\n",
        "        else:\n",
        "            output_batch.append(b)\n",
        "    return torch.cat(output_batch, dim=0)"
      ]
    },
    {
      "cell_type": "markdown",
      "metadata": {
        "id": "K4k46BvuFRb_"
      },
      "source": [
        "## Loss functions \n",
        "As suggested, we divide the objective by 2 while optimizing D, which slows down the rate at which D learns, relative to the rate of G. \n",
        "\n",
        "According to the paper:\n",
        "- generator A is trained  minimize $\\text{mean}_{x \\in A}[(D_B(G(x)) − 1)^2]$ and cycle loss $\\text{mean}_{x \\in A}\\left[ |F(G(x)) - x|_1 \\right]$\n",
        "- generator B is trained  minimize $\\text{mean}_{y \\in B}[(D_A(F(y)) − 1)^2]$ and cycle loss $\\text{mean}_{y \\in B}\\left[ |G(F(y)) - y|_1 \\right]$\n",
        "- discriminators A is trained to minimize $\\text{mean}_{x \\in A}[(D_A(x) − 1)^2] + \\text{mean}_{y \\in B}[D_A(F(y))^2]$.\n",
        "- discriminator B is trained to minimize $\\text{mean}_{y \\in B}[(D_B(y) − 1)^2] + \\text{mean}_{x \\in A}[D_B(G(x))^2]$."
      ]
    },
    {
      "cell_type": "code",
      "execution_count": null,
      "metadata": {
        "id": "vrJls4p-FRcA"
      },
      "outputs": [],
      "source": [
        "from torch.cuda.amp import autocast, GradScaler\n",
        "\n",
        "from ignite.utils import convert_tensor\n",
        "import torch.nn.functional as F\n",
        "\n",
        "amp_enabled = True\n",
        "lambda_value = 10.0\n",
        "amp_scaler = GradScaler(enabled=amp_enabled)\n",
        "max_epochs = 100\n",
        "\n",
        "def discriminator_forward_pass(discriminator, batch_real, batch_fake, fake_buffer):\n",
        "    decision_real = discriminator(batch_real)\n",
        "    batch_fake = buffer_insert_and_get(fake_buffer, batch_fake)      \n",
        "    decision_fake = discriminator(batch_fake)\n",
        "    return decision_real, decision_fake\n",
        "\n",
        "\n",
        "def compute_loss_generator(batch_decision, batch_real, batch_rec, lambda_value, epoch_no = 1):\n",
        "    # loss gan\n",
        "    target = torch.ones_like(batch_decision)\n",
        "    loss_gan = F.mse_loss(batch_decision, target)\n",
        "    # loss cycle\n",
        "    loss_cycle = F.l1_loss(batch_real, batch_rec) * lambda_value\n",
        "    #style_loss\n",
        "    return loss_gan + loss_cycle\n",
        "\n",
        "\n",
        "def compute_loss_discriminator(decision_real, decision_fake):\n",
        "    # loss = mean (D_b(y) − 1)^2 + mean D_b(G(x))^2    \n",
        "    loss = F.mse_loss(decision_fake, torch.zeros_like(decision_fake))\n",
        "    loss += F.mse_loss(decision_real, torch.ones_like(decision_real))\n",
        "    return loss\n",
        "\n",
        "\n",
        "def update_fn(engine, batch):\n",
        "    generator_A2B.train()\n",
        "    generator_B2A.train()\n",
        "    discriminator_A.train()\n",
        "    discriminator_B.train()    \n",
        "\n",
        "    real_a = convert_tensor(batch['A'], device=device, non_blocking=True)\n",
        "    real_b = convert_tensor(batch['B'], device=device, non_blocking=True)\n",
        "\n",
        "    # Update generators\n",
        "\n",
        "    # Disable grads computation for the discriminators:\n",
        "    toggle_grad(discriminator_A, False)\n",
        "    toggle_grad(discriminator_B, False)    \n",
        "\n",
        "    with autocast(enabled=amp_enabled):\n",
        "        fake_b = generator_A2B(real_a)\n",
        "        rec_a = generator_B2A(fake_b)\n",
        "        fake_a = generator_B2A(real_b)\n",
        "        rec_b = generator_A2B(fake_a)\n",
        "        decision_fake_a = discriminator_A(fake_a)\n",
        "        decision_fake_b = discriminator_B(fake_b)\n",
        "\n",
        "        # Compute loss for generators and update generators\n",
        "        loss_a2b = compute_loss_generator(decision_fake_b, real_a, rec_a, lambda_value, engine.state.epoch)    \n",
        "\n",
        "        loss_b2a = compute_loss_generator(decision_fake_a, real_b, rec_b, lambda_value, engine.state.epoch)\n",
        "\n",
        "        # total generators loss:\n",
        "        loss_generators = loss_a2b + loss_b2a\n",
        "\n",
        "    optimizer_G.zero_grad()\n",
        "    amp_scaler.scale(loss_generators).backward()\n",
        "    amp_scaler.step(optimizer_G)\n",
        "\n",
        "    decision_fake_a = rec_a = decision_fake_b = rec_b = None\n",
        "    \n",
        "    # Enable grads computation for the discriminators:\n",
        "    toggle_grad(discriminator_A, True)\n",
        "    toggle_grad(discriminator_B, True)    \n",
        "\n",
        "    with autocast(enabled=amp_enabled):\n",
        "        decision_real_a, decision_fake_a = discriminator_forward_pass(discriminator_A, real_a, fake_a.detach(), fake_a_buffer)    \n",
        "        decision_real_b, decision_fake_b = discriminator_forward_pass(discriminator_B, real_b, fake_b.detach(), fake_b_buffer)    \n",
        "        # Compute loss for discriminators and update discriminators\n",
        "        loss_a = compute_loss_discriminator(decision_real_a, decision_fake_a)\n",
        "\n",
        "        loss_b = compute_loss_discriminator(decision_real_b, decision_fake_b)\n",
        "      \n",
        "        # total discriminators loss:\n",
        "        loss_discriminators = 0.5 * (loss_a + loss_b)\n",
        "    \n",
        "    optimizer_D.zero_grad()\n",
        "    amp_scaler.scale(loss_discriminators).backward()\n",
        "    amp_scaler.step(optimizer_D)\n",
        "    amp_scaler.update()\n",
        "    \n",
        "    return {\n",
        "        \"loss_generators\": loss_generators.item(),\n",
        "        \"loss_generator_a2b\": loss_a2b.item(),\n",
        "        \"loss_generator_b2a\": loss_b2a.item(),\n",
        "        \"loss_discriminators\": loss_discriminators.item(),\n",
        "        \"loss_discriminator_a\": loss_a.item(),\n",
        "        \"loss_discriminator_b\": loss_b.item(),\n",
        "    }"
      ]
    },
    {
      "cell_type": "markdown",
      "metadata": {
        "id": "SxVF6kGYFRcK"
      },
      "source": [
        "We define a trainer and some handlers:\n",
        "- log to tensorboard: losses, lr, generated images\n",
        "- progress bar\n",
        "- models/optimizers checkpointing\n",
        "\n"
      ]
    },
    {
      "cell_type": "code",
      "execution_count": null,
      "metadata": {
        "colab": {
          "base_uri": "https://localhost:8080/"
        },
        "id": "7gdKvpaD_4wm",
        "outputId": "ac837240-ba7a-4ada-a183-ab9d421558b0"
      },
      "outputs": [],
      "source": [
        "!wandb login b657422595177149e90b8966412e2e8b1c783041"
      ]
    },
    {
      "cell_type": "code",
      "execution_count": null,
      "metadata": {
        "id": "TO58FENsFRcM"
      },
      "outputs": [],
      "source": [
        "from ignite.engine import Engine, Events\n",
        "from ignite.metrics import RunningAverage,FID,InceptionScore, SSIM\n",
        "\n",
        "from ignite.contrib.handlers import TensorboardLogger, WandBLogger\n",
        "from ignite.contrib.handlers.wandb_logger import OptimizerParamsHandler as wbop, OutputHandler as wboh\n",
        "\n",
        "from ignite.contrib.handlers.tensorboard_logger import OutputHandler, OptimizerParamsHandler"
      ]
    },
    {
      "cell_type": "markdown",
      "metadata": {
        "id": "k2iKitu6IeNE"
      },
      "source": [
        "### Metrics\n",
        "#### FID, Inception Score, SSIM \n"
      ]
    },
    {
      "cell_type": "code",
      "execution_count": null,
      "metadata": {
        "id": "syVfZz9IAKR2"
      },
      "outputs": [],
      "source": [
        "fid_metric = FID(device=device)\n",
        "is_metric = InceptionScore(device=device, output_transform=lambda x: x[0])\n",
        "ssim_metric = SSIM(device=device, data_range=1.0)\n",
        "\n",
        "fid_metric_1 = FID(device=device)\n",
        "is_metric_1 = InceptionScore(device=device, output_transform=lambda x: x[0])\n",
        "ssim_metric_1 = SSIM(device = device, data_range=1.0)"
      ]
    },
    {
      "cell_type": "code",
      "execution_count": null,
      "metadata": {
        "id": "jbeZjaBtFRcO"
      },
      "outputs": [],
      "source": [
        "from functools import partial\n",
        "trainer = Engine(update_fn)\n",
        "\n",
        "metric_names = [\n",
        "    'loss_discriminators', \n",
        "    'loss_generators', \n",
        "    'loss_discriminator_a',\n",
        "    'loss_discriminator_b',\n",
        "    'loss_generator_a2b',\n",
        "    'loss_generator_b2a' ,\n",
        "]\n",
        "\n",
        "def output_transform(out, name):\n",
        "    return out[name]\n",
        "\n",
        "for name in metric_names:\n",
        "    # here we cannot use lambdas as they do not store argument `name`\n",
        "    RunningAverage(output_transform=partial(output_transform, name=name)).attach(trainer, name)\n"
      ]
    },
    {
      "cell_type": "markdown",
      "metadata": {
        "id": "qLGfq3A6o-tx"
      },
      "source": [
        "#### Weights and Biases Logging "
      ]
    },
    {
      "cell_type": "code",
      "execution_count": null,
      "metadata": {
        "colab": {
          "base_uri": "https://localhost:8080/",
          "height": 173,
          "referenced_widgets": [
            "e238c2e4cc5e44d49d40b7be90778638",
            "441edf06378a41c2a47ce3e8eaa99b32",
            "941b6a11770f457e85989ab59adb8b75",
            "b636f406db294ce6bef3bd8e2d1d00cc",
            "2054d797d6984df4b2e9c044209a5f99",
            "8d27ff09d79e43019c7f3162c4f06e92",
            "0282b338eb0e465eae50fb5662f56336",
            "88066dbeb13a4180a77799ec0a14eca2"
          ]
        },
        "id": "ljTkKgMYFRcT",
        "outputId": "a5bc19fc-cd89-4e24-c751-125e3cdee45f"
      },
      "outputs": [],
      "source": [
        "from pathlib import Path\n",
        "try:\n",
        "    wb_run_name = \"cycle_gan_batch_size_1\"\n",
        "    wb_dir = Path(\"./cycle_gan_batch_size_1\")\n",
        "    if not wb_dir.exists():\n",
        "        wb_dir.mkdir()\n",
        "    wandb_logger = WandBLogger(\n",
        "        project=\"cycle_gan_batch_size_1\",\n",
        "        config={\"max_epochs\": 100},\n",
        "        tags=[\"cycle_gan\", \"pizza\"],\n",
        "        name=wb_run_name,\n",
        "        sync_tensorboard=True,\n",
        "        dir=wb_dir.as_posix(),\n",
        "        reinit=True\n",
        "    )\n",
        "\n",
        "except RuntimeError:\n",
        "    wandb_logger = None"
      ]
    },
    {
      "cell_type": "code",
      "execution_count": null,
      "metadata": {
        "colab": {
          "base_uri": "https://localhost:8080/"
        },
        "id": "56Z3zWGCpm_H",
        "outputId": "341f7aee-6ede-41d6-e6bc-0e1bee8a68fe"
      },
      "outputs": [],
      "source": [
        "wandb_logger.attach(\n",
        "    trainer,\n",
        "    log_handler=wboh(\n",
        "        tag=\"training\",\n",
        "        metric_names=metric_names,\n",
        "        global_step_transform=lambda *_: trainer.state.epoch,\n",
        "    ),\n",
        "    event_name=Events.EPOCH_COMPLETED\n",
        ")\n",
        "\n",
        "## used for logging graidents of the model while training  after evey 100 batches of training\n",
        "wandb_logger.watch(generator_A2B,criterion=None,log='gradients',idx=1,log_freq=1000)\n",
        "wandb_logger.watch(generator_B2A,criterion=None, log='gradients',idx=2,log_freq=1000)\n",
        "wandb_logger.watch(discriminator_A,log='gradients',idx=3,log_freq=1000)\n",
        "wandb_logger.watch(discriminator_B,log='gradients',idx=4,log_freq=1000)"
      ]
    },
    {
      "cell_type": "markdown",
      "metadata": {
        "id": "DbjedQjLFRcV"
      },
      "source": [
        "Evaluator to inference on train/test images and log the generated images to Tensorboard:"
      ]
    },
    {
      "cell_type": "code",
      "execution_count": null,
      "metadata": {
        "id": "rCcdC6q9FRcV"
      },
      "outputs": [],
      "source": [
        "from ignite.engine import Engine\n",
        "\n",
        "def evaluate_fn(engine, batch):\n",
        "    generator_A2B.eval()\n",
        "    generator_B2A.eval()    \n",
        "    with torch.no_grad():\n",
        "        real_a = convert_tensor(batch['A'], device=device, non_blocking=True)\n",
        "        real_b = convert_tensor(batch['B'], device=device, non_blocking=True)\n",
        "        \n",
        "        fake_b = generator_A2B(real_a)\n",
        "        rec_a = generator_B2A(fake_b)\n",
        "\n",
        "        fake_a = generator_B2A(real_b)\n",
        "        rec_b = generator_A2B(fake_a)\n",
        "        \n",
        "    return {\n",
        "        'real_a': real_a,\n",
        "        'real_b': real_b,\n",
        "        'fake_a': fake_a,\n",
        "        'fake_b': fake_b,\n",
        "        'rec_a': rec_a,\n",
        "        'rec_b': rec_b,        \n",
        "    }\n",
        "\n",
        "evaluator = Engine(evaluate_fn)"
      ]
    },
    {
      "cell_type": "code",
      "execution_count": null,
      "metadata": {
        "id": "UIecBsPKFRcX"
      },
      "outputs": [],
      "source": [
        "from torch.utils.data import Subset\n",
        "\n",
        "eval_batch_size = 4\n",
        "\n",
        "train_random_indices = [random.randint(0, len(train_ab_ds) - 1) for _ in range(eval_batch_size)]\n",
        "small_train_ds = Subset(train_ab_ds, train_random_indices)\n",
        "small_train_ds = TransformedDataset(small_train_ds, transform=test_transform)\n",
        "\n",
        "test_random_indices = [random.randint(0, len(test_ab_ds) - 1) for _ in range(eval_batch_size)]\n",
        "small_test_ds = Subset(test_ab_ds, test_random_indices)\n",
        "small_test_ds = TransformedDataset(small_test_ds, transform=test_transform)\n",
        "\n",
        "eval_train_loader = DataLoader(small_train_ds, batch_size=eval_batch_size, shuffle=False, drop_last=False, pin_memory=True, num_workers=4)\n",
        "eval_test_loader = DataLoader(small_test_ds, batch_size=eval_batch_size, shuffle=False, drop_last=False, pin_memory=True, num_workers=4)"
      ]
    },
    {
      "cell_type": "code",
      "execution_count": null,
      "metadata": {
        "colab": {
          "base_uri": "https://localhost:8080/"
        },
        "id": "H6XkEchHFRca",
        "outputId": "5762fbe0-adbb-4924-c713-ae0bbc8d37d9"
      },
      "outputs": [],
      "source": [
        "log_epoch = 1\n",
        "import os\n",
        "fid_values = []\n",
        "is_values = []\n",
        "fid_values_1 = []\n",
        "is_values_1 = []\n",
        "\n",
        "\n",
        "@trainer.on(Events.EPOCH_COMPLETED)\n",
        "def run_evaluation(engine):\n",
        "    print(f'epoch done::',engine.state.epoch)\n",
        "    log_epoch=engine.state.epoch\n",
        "    # evaluator.run(eval_train_loader)\n",
        "    evaluator.run(eval_test_loader)\n",
        "\n",
        "def normalize(x):\n",
        "    vmin = x.min()\n",
        "    vmax = x.max()\n",
        "    x.clamp_(min=vmin, max=vmax)\n",
        "    x.add_(-vmin).div_(vmax - vmin + 1e-5)\n",
        "    return x\n",
        "        \n",
        "def log_generated_images(engine, logger, event_name):\n",
        "\n",
        "    tag = \"Train\" if engine.state.dataloader == eval_train_loader else \"Test\"\n",
        "    output = engine.state.output\n",
        "    state = trainer.state\n",
        "    global_step = state.get_event_attrib_value(event_name)\n",
        "\n",
        "    # fid metrics\n",
        "    fid_metric.update((output['fake_a'], output['real_a']))\n",
        "    gen_a_fid =fid_metric.compute()\n",
        "\n",
        "    fid_metric_1.update((output['fake_b'], output['real_b']))\n",
        "    gen_b_fid =fid_metric_1.compute()\n",
        "    \n",
        "    # inception socres\n",
        "    is_metric.update(output['fake_a'])\n",
        "    gen_a_is =is_metric.compute()\n",
        "\n",
        "    is_metric_1.update(output['fake_b'])\n",
        "    gen_b_is =is_metric_1.compute()\n",
        "    \n",
        "    # ssim metrics\n",
        "    ssim_metric.update((output['fake_a'], output['real_a']))\n",
        "    gen_a_ssim = ssim_metric.compute()\n",
        "    \n",
        "    ssim_metric_1.update((output['fake_b'], output['real_b']))\n",
        "    gen_b_ssim = ssim_metric_1.compute()\n",
        "\n",
        "    eval_metrics = {\n",
        "        \"gen_a_fid_w\":gen_a_fid,\n",
        "        \"gen_b_fid_w\":gen_b_fid,\n",
        "         \"gen_a_is_w\": gen_a_is,\n",
        "         \"gen_b_is_w\":gen_b_is,\n",
        "         \"gen_a_sism_w\" : gen_a_ssim,\n",
        "         \"gen_b_sism_w\" : gen_b_ssim\n",
        "    }\n",
        "    wandb_logger.log(eval_metrics)\n",
        "    # gen_submit_images(output['fake_a'])\n",
        "    curr= trainer.state.epoch\n",
        "    print('current epoch number',curr)\n",
        "\n",
        "    print(f'Epoch {engine.state.epoch} Metrics FID Forward : {gen_a_fid} FID Backwards :{gen_b_fid} IS Forward :{gen_a_is} IS Backward: {gen_b_is} ')"
      ]
    },
    {
      "cell_type": "markdown",
      "metadata": {
        "id": "zrGYmv7RFRcc"
      },
      "source": [
        "#### Suggested lr scheduling\n",
        "The same learning rate for the first 100 epochs and linearly decay the rate to zero over the next 100 epochs."
      ]
    },
    {
      "cell_type": "code",
      "execution_count": null,
      "metadata": {
        "colab": {
          "base_uri": "https://localhost:8080/"
        },
        "id": "SSIcXzReFRcc",
        "outputId": "ba86baef-9e68-4730-edab-657126899b08"
      },
      "outputs": [],
      "source": [
        "from ignite.contrib.handlers import PiecewiseLinear, ParamGroupScheduler\n",
        "lr = 0.0002\n",
        "milestones_values = [\n",
        "    (0, lr),\n",
        "    (50, lr),\n",
        "    (100, 0.0)\n",
        "]\n",
        "gen_lr_scheduler = PiecewiseLinear(optimizer_D, param_name='lr', milestones_values=milestones_values)\n",
        "desc_lr_scheduler = PiecewiseLinear(optimizer_G, param_name='lr', milestones_values=milestones_values)\n",
        "lr_scheduler = ParamGroupScheduler([gen_lr_scheduler, desc_lr_scheduler], names=['gen_lr_scheduler', 'desc_lr_scheduler'])\n",
        "trainer.add_event_handler(Events.EPOCH_STARTED, lr_scheduler)"
      ]
    },
    {
      "cell_type": "markdown",
      "metadata": {
        "id": "xWJcV2veFRcf"
      },
      "source": [
        "#### Models/optimizers checkpointing:"
      ]
    },
    {
      "cell_type": "code",
      "execution_count": null,
      "metadata": {
        "colab": {
          "base_uri": "https://localhost:8080/"
        },
        "id": "F-emWk-YFRci",
        "outputId": "7b87b778-ea46-4db2-c917-badf0b47796a"
      },
      "outputs": [],
      "source": [
        "from ignite.handlers import ModelCheckpoint, TerminateOnNan\n",
        "checkpoint_handler = ModelCheckpoint(dirname=\"/common/home/jrp328/Downloads/cycle_gan/cycle_gan/cycle_gan/exp1/models\", filename_prefix=\"epoch_\", create_dir=True,n_saved=200)\n",
        "to_save = {\n",
        "    \"generator_A2B\": generator_A2B,\n",
        "    \"discriminator_B\": discriminator_B,\n",
        "    \"generator_B2A\": generator_B2A,\n",
        "    \"discriminator_A\": discriminator_A,\n",
        "    \"optimizer_G\": optimizer_G,\n",
        "    \"optimizer_D\": optimizer_D,\n",
        "}\n",
        "trainer.add_event_handler(Events.EPOCH_COMPLETED(every=2), checkpoint_handler, to_save)\n",
        "trainer.add_event_handler(Events.EPOCH_COMPLETED, TerminateOnNan())"
      ]
    },
    {
      "cell_type": "code",
      "execution_count": null,
      "metadata": {
        "id": "RtQKr6yxFRck"
      },
      "outputs": [],
      "source": [
        "from ignite.contrib.handlers import ProgressBar\n",
        "# Iteration-wise progress bar\n",
        "ProgressBar(bar_format=\"\").attach(trainer)\n",
        "# Epoch-wise progress bar with display of training losses\n",
        "ProgressBar(persist=True, bar_format=\"\").attach(trainer, metric_names=['loss_discriminators', 'loss_generators'], event_name=Events.EPOCH_STARTED, closing_event_name=Events.COMPLETED)\n",
        "trainer.run(train_ab_loader, max_epochs=100)"
      ]
    },
    {
      "cell_type": "code",
      "execution_count": null,
      "metadata": {
        "colab": {
          "base_uri": "https://localhost:8080/",
          "height": 586,
          "referenced_widgets": [
            "4dd2f57c90c740dc9504968f73222d29",
            "00b3ce5353c44c46bb353e09ef6d472f",
            "a59f9dafeabd437e9b0ad1798a267661",
            "4a7b2b73cbe84c1097ee5faddd9e26b0",
            "463b75a6c99f4b93a85b30cd9f3dbc3e",
            "ae3a099e5c3348ce90f69ae27e221291",
            "6a1b7333ed0d4c7988999884353684d5",
            "4e60e31960e44edfbe8b76fbb10687f2",
            "7503c9f6744243358036eb5ce3579fb9",
            "7ca9adfc84914e7382a05208242a8e2c",
            "99b08be7e56c4c3fbb1a5920f1640a61",
            "76361901f3a14ec9ab92c4a5f2ced034",
            "b35becfe4f4047ab88c419026afc9b4f",
            "bce1a4c2e40a47b885819f6af4a16c22",
            "d56a882d5bf0484fbfc33bcbcacf4ee1",
            "5e97103ac0444081895c8b99cf8f5569",
            "f1275f3628c74b14bfe49351b3c85613",
            "cbff8c6232b34712b7720ac48c795d32",
            "f0900fd350b6488db33fd3e58f7722a9",
            "3d5cb9f0a36a47ae8c0682eae7da178d",
            "97be35f0056a4fedbae8e89191243223",
            "7dfbf42393f24fb08175168fdfb82f4c",
            "0d7de9d8485b4570957f6f6e4e9947a3",
            "055b2d91e6c34d92b760fe85913e765f",
            "460ad4a394784c89b278f9a95b007e05",
            "0dfc52167460405b9a8c5e17c2a5d040",
            "efd4b440794a4b68a15f75a536a68e3d",
            "a257d9f3470b40739ff7f271bdd2fe44",
            "7d0f92adcfba49c8a06eb8339807cadc",
            "e2410c21e58841ddacbe3783ecf4bd4b",
            "8fd70271766247e3a52fd03a43f69872",
            "fd18ec8fcf6f49878d2efbadfbf08b4e",
            "33bfbd7843ef4b38973fdac12ecfd863"
          ]
        },
        "id": "CcxhA9rHFRcn",
        "outputId": "48eb01ab-5901-40c8-982b-db00ca0eda69"
      },
      "outputs": [],
      "source": [
        "trainer.run(train_ab_loader, max_epochs=100)"
      ]
    },
    {
      "cell_type": "code",
      "execution_count": null,
      "metadata": {
        "id": "XtXSfbHqFRct"
      },
      "outputs": [],
      "source": [
        "wandb_logger.close()"
      ]
    }
  ],
  "metadata": {
    "accelerator": "GPU",
    "colab": {
      "collapsed_sections": [],
      "name": "novel_approach.ipynb",
      "provenance": []
    },
    "kernelspec": {
      "display_name": "Python 3",
      "language": "python",
      "name": "python3"
    },
    "language_info": {
      "codemirror_mode": {
        "name": "ipython",
        "version": 3
      },
      "file_extension": ".py",
      "mimetype": "text/x-python",
      "name": "python",
      "nbconvert_exporter": "python",
      "pygments_lexer": "ipython3",
      "version": "3.9.7"
    },
    "widgets": {
      "application/vnd.jupyter.widget-state+json": {
        "00b3ce5353c44c46bb353e09ef6d472f": {
          "model_module": "@jupyter-widgets/controls",
          "model_module_version": "1.5.0",
          "model_name": "HTMLModel",
          "state": {
            "_dom_classes": [],
            "_model_module": "@jupyter-widgets/controls",
            "_model_module_version": "1.5.0",
            "_model_name": "HTMLModel",
            "_view_count": null,
            "_view_module": "@jupyter-widgets/controls",
            "_view_module_version": "1.5.0",
            "_view_name": "HTMLView",
            "description": "",
            "description_tooltip": null,
            "layout": "IPY_MODEL_ae3a099e5c3348ce90f69ae27e221291",
            "placeholder": "​",
            "style": "IPY_MODEL_6a1b7333ed0d4c7988999884353684d5",
            "value": "Epoch:   2%"
          }
        },
        "0282b338eb0e465eae50fb5662f56336": {
          "model_module": "@jupyter-widgets/base",
          "model_module_version": "1.2.0",
          "model_name": "LayoutModel",
          "state": {
            "_model_module": "@jupyter-widgets/base",
            "_model_module_version": "1.2.0",
            "_model_name": "LayoutModel",
            "_view_count": null,
            "_view_module": "@jupyter-widgets/base",
            "_view_module_version": "1.2.0",
            "_view_name": "LayoutView",
            "align_content": null,
            "align_items": null,
            "align_self": null,
            "border": null,
            "bottom": null,
            "display": null,
            "flex": null,
            "flex_flow": null,
            "grid_area": null,
            "grid_auto_columns": null,
            "grid_auto_flow": null,
            "grid_auto_rows": null,
            "grid_column": null,
            "grid_gap": null,
            "grid_row": null,
            "grid_template_areas": null,
            "grid_template_columns": null,
            "grid_template_rows": null,
            "height": null,
            "justify_content": null,
            "justify_items": null,
            "left": null,
            "margin": null,
            "max_height": null,
            "max_width": null,
            "min_height": null,
            "min_width": null,
            "object_fit": null,
            "object_position": null,
            "order": null,
            "overflow": null,
            "overflow_x": null,
            "overflow_y": null,
            "padding": null,
            "right": null,
            "top": null,
            "visibility": null,
            "width": null
          }
        },
        "055b2d91e6c34d92b760fe85913e765f": {
          "model_module": "@jupyter-widgets/controls",
          "model_module_version": "1.5.0",
          "model_name": "HTMLModel",
          "state": {
            "_dom_classes": [],
            "_model_module": "@jupyter-widgets/controls",
            "_model_module_version": "1.5.0",
            "_model_name": "HTMLModel",
            "_view_count": null,
            "_view_module": "@jupyter-widgets/controls",
            "_view_module_version": "1.5.0",
            "_view_name": "HTMLView",
            "description": "",
            "description_tooltip": null,
            "layout": "IPY_MODEL_a257d9f3470b40739ff7f271bdd2fe44",
            "placeholder": "​",
            "style": "IPY_MODEL_7d0f92adcfba49c8a06eb8339807cadc",
            "value": "Epoch [2/100]:   8%"
          }
        },
        "0d7de9d8485b4570957f6f6e4e9947a3": {
          "model_module": "@jupyter-widgets/controls",
          "model_module_version": "1.5.0",
          "model_name": "HBoxModel",
          "state": {
            "_dom_classes": [],
            "_model_module": "@jupyter-widgets/controls",
            "_model_module_version": "1.5.0",
            "_model_name": "HBoxModel",
            "_view_count": null,
            "_view_module": "@jupyter-widgets/controls",
            "_view_module_version": "1.5.0",
            "_view_name": "HBoxView",
            "box_style": "",
            "children": [
              "IPY_MODEL_055b2d91e6c34d92b760fe85913e765f",
              "IPY_MODEL_460ad4a394784c89b278f9a95b007e05",
              "IPY_MODEL_0dfc52167460405b9a8c5e17c2a5d040"
            ],
            "layout": "IPY_MODEL_efd4b440794a4b68a15f75a536a68e3d"
          }
        },
        "0dfc52167460405b9a8c5e17c2a5d040": {
          "model_module": "@jupyter-widgets/controls",
          "model_module_version": "1.5.0",
          "model_name": "HTMLModel",
          "state": {
            "_dom_classes": [],
            "_model_module": "@jupyter-widgets/controls",
            "_model_module_version": "1.5.0",
            "_model_name": "HTMLModel",
            "_view_count": null,
            "_view_module": "@jupyter-widgets/controls",
            "_view_module_version": "1.5.0",
            "_view_name": "HTMLView",
            "description": "",
            "description_tooltip": null,
            "layout": "IPY_MODEL_fd18ec8fcf6f49878d2efbadfbf08b4e",
            "placeholder": "​",
            "style": "IPY_MODEL_33bfbd7843ef4b38973fdac12ecfd863",
            "value": " 4/48 [00:05&lt;01:17,  1.77s/it]"
          }
        },
        "2054d797d6984df4b2e9c044209a5f99": {
          "model_module": "@jupyter-widgets/base",
          "model_module_version": "1.2.0",
          "model_name": "LayoutModel",
          "state": {
            "_model_module": "@jupyter-widgets/base",
            "_model_module_version": "1.2.0",
            "_model_name": "LayoutModel",
            "_view_count": null,
            "_view_module": "@jupyter-widgets/base",
            "_view_module_version": "1.2.0",
            "_view_name": "LayoutView",
            "align_content": null,
            "align_items": null,
            "align_self": null,
            "border": null,
            "bottom": null,
            "display": null,
            "flex": null,
            "flex_flow": null,
            "grid_area": null,
            "grid_auto_columns": null,
            "grid_auto_flow": null,
            "grid_auto_rows": null,
            "grid_column": null,
            "grid_gap": null,
            "grid_row": null,
            "grid_template_areas": null,
            "grid_template_columns": null,
            "grid_template_rows": null,
            "height": null,
            "justify_content": null,
            "justify_items": null,
            "left": null,
            "margin": null,
            "max_height": null,
            "max_width": null,
            "min_height": null,
            "min_width": null,
            "object_fit": null,
            "object_position": null,
            "order": null,
            "overflow": null,
            "overflow_x": null,
            "overflow_y": null,
            "padding": null,
            "right": null,
            "top": null,
            "visibility": null,
            "width": null
          }
        },
        "33bfbd7843ef4b38973fdac12ecfd863": {
          "model_module": "@jupyter-widgets/controls",
          "model_module_version": "1.5.0",
          "model_name": "DescriptionStyleModel",
          "state": {
            "_model_module": "@jupyter-widgets/controls",
            "_model_module_version": "1.5.0",
            "_model_name": "DescriptionStyleModel",
            "_view_count": null,
            "_view_module": "@jupyter-widgets/base",
            "_view_module_version": "1.2.0",
            "_view_name": "StyleView",
            "description_width": ""
          }
        },
        "3d5cb9f0a36a47ae8c0682eae7da178d": {
          "model_module": "@jupyter-widgets/controls",
          "model_module_version": "1.5.0",
          "model_name": "ProgressStyleModel",
          "state": {
            "_model_module": "@jupyter-widgets/controls",
            "_model_module_version": "1.5.0",
            "_model_name": "ProgressStyleModel",
            "_view_count": null,
            "_view_module": "@jupyter-widgets/base",
            "_view_module_version": "1.2.0",
            "_view_name": "StyleView",
            "bar_color": null,
            "description_width": ""
          }
        },
        "441edf06378a41c2a47ce3e8eaa99b32": {
          "model_module": "@jupyter-widgets/controls",
          "model_module_version": "1.5.0",
          "model_name": "LabelModel",
          "state": {
            "_dom_classes": [],
            "_model_module": "@jupyter-widgets/controls",
            "_model_module_version": "1.5.0",
            "_model_name": "LabelModel",
            "_view_count": null,
            "_view_module": "@jupyter-widgets/controls",
            "_view_module_version": "1.5.0",
            "_view_name": "LabelView",
            "description": "",
            "description_tooltip": null,
            "layout": "IPY_MODEL_2054d797d6984df4b2e9c044209a5f99",
            "placeholder": "​",
            "style": "IPY_MODEL_8d27ff09d79e43019c7f3162c4f06e92",
            "value": "0.014 MB of 0.014 MB uploaded (0.000 MB deduped)\r"
          }
        },
        "460ad4a394784c89b278f9a95b007e05": {
          "model_module": "@jupyter-widgets/controls",
          "model_module_version": "1.5.0",
          "model_name": "FloatProgressModel",
          "state": {
            "_dom_classes": [],
            "_model_module": "@jupyter-widgets/controls",
            "_model_module_version": "1.5.0",
            "_model_name": "FloatProgressModel",
            "_view_count": null,
            "_view_module": "@jupyter-widgets/controls",
            "_view_module_version": "1.5.0",
            "_view_name": "ProgressView",
            "bar_style": "",
            "description": "",
            "description_tooltip": null,
            "layout": "IPY_MODEL_e2410c21e58841ddacbe3783ecf4bd4b",
            "max": 48,
            "min": 0,
            "orientation": "horizontal",
            "style": "IPY_MODEL_8fd70271766247e3a52fd03a43f69872",
            "value": 4
          }
        },
        "463b75a6c99f4b93a85b30cd9f3dbc3e": {
          "model_module": "@jupyter-widgets/base",
          "model_module_version": "1.2.0",
          "model_name": "LayoutModel",
          "state": {
            "_model_module": "@jupyter-widgets/base",
            "_model_module_version": "1.2.0",
            "_model_name": "LayoutModel",
            "_view_count": null,
            "_view_module": "@jupyter-widgets/base",
            "_view_module_version": "1.2.0",
            "_view_name": "LayoutView",
            "align_content": null,
            "align_items": null,
            "align_self": null,
            "border": null,
            "bottom": null,
            "display": null,
            "flex": null,
            "flex_flow": null,
            "grid_area": null,
            "grid_auto_columns": null,
            "grid_auto_flow": null,
            "grid_auto_rows": null,
            "grid_column": null,
            "grid_gap": null,
            "grid_row": null,
            "grid_template_areas": null,
            "grid_template_columns": null,
            "grid_template_rows": null,
            "height": null,
            "justify_content": null,
            "justify_items": null,
            "left": null,
            "margin": null,
            "max_height": null,
            "max_width": null,
            "min_height": null,
            "min_width": null,
            "object_fit": null,
            "object_position": null,
            "order": null,
            "overflow": null,
            "overflow_x": null,
            "overflow_y": null,
            "padding": null,
            "right": null,
            "top": null,
            "visibility": null,
            "width": null
          }
        },
        "4a7b2b73cbe84c1097ee5faddd9e26b0": {
          "model_module": "@jupyter-widgets/controls",
          "model_module_version": "1.5.0",
          "model_name": "HTMLModel",
          "state": {
            "_dom_classes": [],
            "_model_module": "@jupyter-widgets/controls",
            "_model_module_version": "1.5.0",
            "_model_name": "HTMLModel",
            "_view_count": null,
            "_view_module": "@jupyter-widgets/controls",
            "_view_module_version": "1.5.0",
            "_view_name": "HTMLView",
            "description": "",
            "description_tooltip": null,
            "layout": "IPY_MODEL_7ca9adfc84914e7382a05208242a8e2c",
            "placeholder": "​",
            "style": "IPY_MODEL_99b08be7e56c4c3fbb1a5920f1640a61",
            "value": " 2/100 [01:36&lt;2:37:44, 96.58s/it, loss_discriminators=3.07, loss_generators=13]"
          }
        },
        "4dd2f57c90c740dc9504968f73222d29": {
          "model_module": "@jupyter-widgets/controls",
          "model_module_version": "1.5.0",
          "model_name": "HBoxModel",
          "state": {
            "_dom_classes": [],
            "_model_module": "@jupyter-widgets/controls",
            "_model_module_version": "1.5.0",
            "_model_name": "HBoxModel",
            "_view_count": null,
            "_view_module": "@jupyter-widgets/controls",
            "_view_module_version": "1.5.0",
            "_view_name": "HBoxView",
            "box_style": "",
            "children": [
              "IPY_MODEL_00b3ce5353c44c46bb353e09ef6d472f",
              "IPY_MODEL_a59f9dafeabd437e9b0ad1798a267661",
              "IPY_MODEL_4a7b2b73cbe84c1097ee5faddd9e26b0"
            ],
            "layout": "IPY_MODEL_463b75a6c99f4b93a85b30cd9f3dbc3e"
          }
        },
        "4e60e31960e44edfbe8b76fbb10687f2": {
          "model_module": "@jupyter-widgets/base",
          "model_module_version": "1.2.0",
          "model_name": "LayoutModel",
          "state": {
            "_model_module": "@jupyter-widgets/base",
            "_model_module_version": "1.2.0",
            "_model_name": "LayoutModel",
            "_view_count": null,
            "_view_module": "@jupyter-widgets/base",
            "_view_module_version": "1.2.0",
            "_view_name": "LayoutView",
            "align_content": null,
            "align_items": null,
            "align_self": null,
            "border": null,
            "bottom": null,
            "display": null,
            "flex": null,
            "flex_flow": null,
            "grid_area": null,
            "grid_auto_columns": null,
            "grid_auto_flow": null,
            "grid_auto_rows": null,
            "grid_column": null,
            "grid_gap": null,
            "grid_row": null,
            "grid_template_areas": null,
            "grid_template_columns": null,
            "grid_template_rows": null,
            "height": null,
            "justify_content": null,
            "justify_items": null,
            "left": null,
            "margin": null,
            "max_height": null,
            "max_width": null,
            "min_height": null,
            "min_width": null,
            "object_fit": null,
            "object_position": null,
            "order": null,
            "overflow": null,
            "overflow_x": null,
            "overflow_y": null,
            "padding": null,
            "right": null,
            "top": null,
            "visibility": null,
            "width": null
          }
        },
        "5e97103ac0444081895c8b99cf8f5569": {
          "model_module": "@jupyter-widgets/base",
          "model_module_version": "1.2.0",
          "model_name": "LayoutModel",
          "state": {
            "_model_module": "@jupyter-widgets/base",
            "_model_module_version": "1.2.0",
            "_model_name": "LayoutModel",
            "_view_count": null,
            "_view_module": "@jupyter-widgets/base",
            "_view_module_version": "1.2.0",
            "_view_name": "LayoutView",
            "align_content": null,
            "align_items": null,
            "align_self": null,
            "border": null,
            "bottom": null,
            "display": null,
            "flex": null,
            "flex_flow": null,
            "grid_area": null,
            "grid_auto_columns": null,
            "grid_auto_flow": null,
            "grid_auto_rows": null,
            "grid_column": null,
            "grid_gap": null,
            "grid_row": null,
            "grid_template_areas": null,
            "grid_template_columns": null,
            "grid_template_rows": null,
            "height": null,
            "justify_content": null,
            "justify_items": null,
            "left": null,
            "margin": null,
            "max_height": null,
            "max_width": null,
            "min_height": null,
            "min_width": null,
            "object_fit": null,
            "object_position": null,
            "order": null,
            "overflow": null,
            "overflow_x": null,
            "overflow_y": null,
            "padding": null,
            "right": null,
            "top": null,
            "visibility": null,
            "width": null
          }
        },
        "6a1b7333ed0d4c7988999884353684d5": {
          "model_module": "@jupyter-widgets/controls",
          "model_module_version": "1.5.0",
          "model_name": "DescriptionStyleModel",
          "state": {
            "_model_module": "@jupyter-widgets/controls",
            "_model_module_version": "1.5.0",
            "_model_name": "DescriptionStyleModel",
            "_view_count": null,
            "_view_module": "@jupyter-widgets/base",
            "_view_module_version": "1.2.0",
            "_view_name": "StyleView",
            "description_width": ""
          }
        },
        "7503c9f6744243358036eb5ce3579fb9": {
          "model_module": "@jupyter-widgets/controls",
          "model_module_version": "1.5.0",
          "model_name": "ProgressStyleModel",
          "state": {
            "_model_module": "@jupyter-widgets/controls",
            "_model_module_version": "1.5.0",
            "_model_name": "ProgressStyleModel",
            "_view_count": null,
            "_view_module": "@jupyter-widgets/base",
            "_view_module_version": "1.2.0",
            "_view_name": "StyleView",
            "bar_color": null,
            "description_width": ""
          }
        },
        "76361901f3a14ec9ab92c4a5f2ced034": {
          "model_module": "@jupyter-widgets/controls",
          "model_module_version": "1.5.0",
          "model_name": "HBoxModel",
          "state": {
            "_dom_classes": [],
            "_model_module": "@jupyter-widgets/controls",
            "_model_module_version": "1.5.0",
            "_model_name": "HBoxModel",
            "_view_count": null,
            "_view_module": "@jupyter-widgets/controls",
            "_view_module_version": "1.5.0",
            "_view_name": "HBoxView",
            "box_style": "",
            "children": [
              "IPY_MODEL_b35becfe4f4047ab88c419026afc9b4f",
              "IPY_MODEL_bce1a4c2e40a47b885819f6af4a16c22",
              "IPY_MODEL_d56a882d5bf0484fbfc33bcbcacf4ee1"
            ],
            "layout": "IPY_MODEL_5e97103ac0444081895c8b99cf8f5569"
          }
        },
        "7ca9adfc84914e7382a05208242a8e2c": {
          "model_module": "@jupyter-widgets/base",
          "model_module_version": "1.2.0",
          "model_name": "LayoutModel",
          "state": {
            "_model_module": "@jupyter-widgets/base",
            "_model_module_version": "1.2.0",
            "_model_name": "LayoutModel",
            "_view_count": null,
            "_view_module": "@jupyter-widgets/base",
            "_view_module_version": "1.2.0",
            "_view_name": "LayoutView",
            "align_content": null,
            "align_items": null,
            "align_self": null,
            "border": null,
            "bottom": null,
            "display": null,
            "flex": null,
            "flex_flow": null,
            "grid_area": null,
            "grid_auto_columns": null,
            "grid_auto_flow": null,
            "grid_auto_rows": null,
            "grid_column": null,
            "grid_gap": null,
            "grid_row": null,
            "grid_template_areas": null,
            "grid_template_columns": null,
            "grid_template_rows": null,
            "height": null,
            "justify_content": null,
            "justify_items": null,
            "left": null,
            "margin": null,
            "max_height": null,
            "max_width": null,
            "min_height": null,
            "min_width": null,
            "object_fit": null,
            "object_position": null,
            "order": null,
            "overflow": null,
            "overflow_x": null,
            "overflow_y": null,
            "padding": null,
            "right": null,
            "top": null,
            "visibility": null,
            "width": null
          }
        },
        "7d0f92adcfba49c8a06eb8339807cadc": {
          "model_module": "@jupyter-widgets/controls",
          "model_module_version": "1.5.0",
          "model_name": "DescriptionStyleModel",
          "state": {
            "_model_module": "@jupyter-widgets/controls",
            "_model_module_version": "1.5.0",
            "_model_name": "DescriptionStyleModel",
            "_view_count": null,
            "_view_module": "@jupyter-widgets/base",
            "_view_module_version": "1.2.0",
            "_view_name": "StyleView",
            "description_width": ""
          }
        },
        "7dfbf42393f24fb08175168fdfb82f4c": {
          "model_module": "@jupyter-widgets/controls",
          "model_module_version": "1.5.0",
          "model_name": "DescriptionStyleModel",
          "state": {
            "_model_module": "@jupyter-widgets/controls",
            "_model_module_version": "1.5.0",
            "_model_name": "DescriptionStyleModel",
            "_view_count": null,
            "_view_module": "@jupyter-widgets/base",
            "_view_module_version": "1.2.0",
            "_view_name": "StyleView",
            "description_width": ""
          }
        },
        "88066dbeb13a4180a77799ec0a14eca2": {
          "model_module": "@jupyter-widgets/controls",
          "model_module_version": "1.5.0",
          "model_name": "ProgressStyleModel",
          "state": {
            "_model_module": "@jupyter-widgets/controls",
            "_model_module_version": "1.5.0",
            "_model_name": "ProgressStyleModel",
            "_view_count": null,
            "_view_module": "@jupyter-widgets/base",
            "_view_module_version": "1.2.0",
            "_view_name": "StyleView",
            "bar_color": null,
            "description_width": ""
          }
        },
        "8d27ff09d79e43019c7f3162c4f06e92": {
          "model_module": "@jupyter-widgets/controls",
          "model_module_version": "1.5.0",
          "model_name": "DescriptionStyleModel",
          "state": {
            "_model_module": "@jupyter-widgets/controls",
            "_model_module_version": "1.5.0",
            "_model_name": "DescriptionStyleModel",
            "_view_count": null,
            "_view_module": "@jupyter-widgets/base",
            "_view_module_version": "1.2.0",
            "_view_name": "StyleView",
            "description_width": ""
          }
        },
        "8fd70271766247e3a52fd03a43f69872": {
          "model_module": "@jupyter-widgets/controls",
          "model_module_version": "1.5.0",
          "model_name": "ProgressStyleModel",
          "state": {
            "_model_module": "@jupyter-widgets/controls",
            "_model_module_version": "1.5.0",
            "_model_name": "ProgressStyleModel",
            "_view_count": null,
            "_view_module": "@jupyter-widgets/base",
            "_view_module_version": "1.2.0",
            "_view_name": "StyleView",
            "bar_color": null,
            "description_width": ""
          }
        },
        "941b6a11770f457e85989ab59adb8b75": {
          "model_module": "@jupyter-widgets/controls",
          "model_module_version": "1.5.0",
          "model_name": "FloatProgressModel",
          "state": {
            "_dom_classes": [],
            "_model_module": "@jupyter-widgets/controls",
            "_model_module_version": "1.5.0",
            "_model_name": "FloatProgressModel",
            "_view_count": null,
            "_view_module": "@jupyter-widgets/controls",
            "_view_module_version": "1.5.0",
            "_view_name": "ProgressView",
            "bar_style": "",
            "description": "",
            "description_tooltip": null,
            "layout": "IPY_MODEL_0282b338eb0e465eae50fb5662f56336",
            "max": 1,
            "min": 0,
            "orientation": "horizontal",
            "style": "IPY_MODEL_88066dbeb13a4180a77799ec0a14eca2",
            "value": 1
          }
        },
        "97be35f0056a4fedbae8e89191243223": {
          "model_module": "@jupyter-widgets/base",
          "model_module_version": "1.2.0",
          "model_name": "LayoutModel",
          "state": {
            "_model_module": "@jupyter-widgets/base",
            "_model_module_version": "1.2.0",
            "_model_name": "LayoutModel",
            "_view_count": null,
            "_view_module": "@jupyter-widgets/base",
            "_view_module_version": "1.2.0",
            "_view_name": "LayoutView",
            "align_content": null,
            "align_items": null,
            "align_self": null,
            "border": null,
            "bottom": null,
            "display": null,
            "flex": null,
            "flex_flow": null,
            "grid_area": null,
            "grid_auto_columns": null,
            "grid_auto_flow": null,
            "grid_auto_rows": null,
            "grid_column": null,
            "grid_gap": null,
            "grid_row": null,
            "grid_template_areas": null,
            "grid_template_columns": null,
            "grid_template_rows": null,
            "height": null,
            "justify_content": null,
            "justify_items": null,
            "left": null,
            "margin": null,
            "max_height": null,
            "max_width": null,
            "min_height": null,
            "min_width": null,
            "object_fit": null,
            "object_position": null,
            "order": null,
            "overflow": null,
            "overflow_x": null,
            "overflow_y": null,
            "padding": null,
            "right": null,
            "top": null,
            "visibility": null,
            "width": null
          }
        },
        "99b08be7e56c4c3fbb1a5920f1640a61": {
          "model_module": "@jupyter-widgets/controls",
          "model_module_version": "1.5.0",
          "model_name": "DescriptionStyleModel",
          "state": {
            "_model_module": "@jupyter-widgets/controls",
            "_model_module_version": "1.5.0",
            "_model_name": "DescriptionStyleModel",
            "_view_count": null,
            "_view_module": "@jupyter-widgets/base",
            "_view_module_version": "1.2.0",
            "_view_name": "StyleView",
            "description_width": ""
          }
        },
        "a257d9f3470b40739ff7f271bdd2fe44": {
          "model_module": "@jupyter-widgets/base",
          "model_module_version": "1.2.0",
          "model_name": "LayoutModel",
          "state": {
            "_model_module": "@jupyter-widgets/base",
            "_model_module_version": "1.2.0",
            "_model_name": "LayoutModel",
            "_view_count": null,
            "_view_module": "@jupyter-widgets/base",
            "_view_module_version": "1.2.0",
            "_view_name": "LayoutView",
            "align_content": null,
            "align_items": null,
            "align_self": null,
            "border": null,
            "bottom": null,
            "display": null,
            "flex": null,
            "flex_flow": null,
            "grid_area": null,
            "grid_auto_columns": null,
            "grid_auto_flow": null,
            "grid_auto_rows": null,
            "grid_column": null,
            "grid_gap": null,
            "grid_row": null,
            "grid_template_areas": null,
            "grid_template_columns": null,
            "grid_template_rows": null,
            "height": null,
            "justify_content": null,
            "justify_items": null,
            "left": null,
            "margin": null,
            "max_height": null,
            "max_width": null,
            "min_height": null,
            "min_width": null,
            "object_fit": null,
            "object_position": null,
            "order": null,
            "overflow": null,
            "overflow_x": null,
            "overflow_y": null,
            "padding": null,
            "right": null,
            "top": null,
            "visibility": null,
            "width": null
          }
        },
        "a59f9dafeabd437e9b0ad1798a267661": {
          "model_module": "@jupyter-widgets/controls",
          "model_module_version": "1.5.0",
          "model_name": "FloatProgressModel",
          "state": {
            "_dom_classes": [],
            "_model_module": "@jupyter-widgets/controls",
            "_model_module_version": "1.5.0",
            "_model_name": "FloatProgressModel",
            "_view_count": null,
            "_view_module": "@jupyter-widgets/controls",
            "_view_module_version": "1.5.0",
            "_view_name": "ProgressView",
            "bar_style": "",
            "description": "",
            "description_tooltip": null,
            "layout": "IPY_MODEL_4e60e31960e44edfbe8b76fbb10687f2",
            "max": 100,
            "min": 0,
            "orientation": "horizontal",
            "style": "IPY_MODEL_7503c9f6744243358036eb5ce3579fb9",
            "value": 2
          }
        },
        "ae3a099e5c3348ce90f69ae27e221291": {
          "model_module": "@jupyter-widgets/base",
          "model_module_version": "1.2.0",
          "model_name": "LayoutModel",
          "state": {
            "_model_module": "@jupyter-widgets/base",
            "_model_module_version": "1.2.0",
            "_model_name": "LayoutModel",
            "_view_count": null,
            "_view_module": "@jupyter-widgets/base",
            "_view_module_version": "1.2.0",
            "_view_name": "LayoutView",
            "align_content": null,
            "align_items": null,
            "align_self": null,
            "border": null,
            "bottom": null,
            "display": null,
            "flex": null,
            "flex_flow": null,
            "grid_area": null,
            "grid_auto_columns": null,
            "grid_auto_flow": null,
            "grid_auto_rows": null,
            "grid_column": null,
            "grid_gap": null,
            "grid_row": null,
            "grid_template_areas": null,
            "grid_template_columns": null,
            "grid_template_rows": null,
            "height": null,
            "justify_content": null,
            "justify_items": null,
            "left": null,
            "margin": null,
            "max_height": null,
            "max_width": null,
            "min_height": null,
            "min_width": null,
            "object_fit": null,
            "object_position": null,
            "order": null,
            "overflow": null,
            "overflow_x": null,
            "overflow_y": null,
            "padding": null,
            "right": null,
            "top": null,
            "visibility": null,
            "width": null
          }
        },
        "b35becfe4f4047ab88c419026afc9b4f": {
          "model_module": "@jupyter-widgets/controls",
          "model_module_version": "1.5.0",
          "model_name": "HTMLModel",
          "state": {
            "_dom_classes": [],
            "_model_module": "@jupyter-widgets/controls",
            "_model_module_version": "1.5.0",
            "_model_name": "HTMLModel",
            "_view_count": null,
            "_view_module": "@jupyter-widgets/controls",
            "_view_module_version": "1.5.0",
            "_view_name": "HTMLView",
            "description": "",
            "description_tooltip": null,
            "layout": "IPY_MODEL_f1275f3628c74b14bfe49351b3c85613",
            "placeholder": "​",
            "style": "IPY_MODEL_cbff8c6232b34712b7720ac48c795d32",
            "value": "Epoch [1/100]: 100%"
          }
        },
        "b636f406db294ce6bef3bd8e2d1d00cc": {
          "model_module": "@jupyter-widgets/base",
          "model_module_version": "1.2.0",
          "model_name": "LayoutModel",
          "state": {
            "_model_module": "@jupyter-widgets/base",
            "_model_module_version": "1.2.0",
            "_model_name": "LayoutModel",
            "_view_count": null,
            "_view_module": "@jupyter-widgets/base",
            "_view_module_version": "1.2.0",
            "_view_name": "LayoutView",
            "align_content": null,
            "align_items": null,
            "align_self": null,
            "border": null,
            "bottom": null,
            "display": null,
            "flex": null,
            "flex_flow": null,
            "grid_area": null,
            "grid_auto_columns": null,
            "grid_auto_flow": null,
            "grid_auto_rows": null,
            "grid_column": null,
            "grid_gap": null,
            "grid_row": null,
            "grid_template_areas": null,
            "grid_template_columns": null,
            "grid_template_rows": null,
            "height": null,
            "justify_content": null,
            "justify_items": null,
            "left": null,
            "margin": null,
            "max_height": null,
            "max_width": null,
            "min_height": null,
            "min_width": null,
            "object_fit": null,
            "object_position": null,
            "order": null,
            "overflow": null,
            "overflow_x": null,
            "overflow_y": null,
            "padding": null,
            "right": null,
            "top": null,
            "visibility": null,
            "width": null
          }
        },
        "bce1a4c2e40a47b885819f6af4a16c22": {
          "model_module": "@jupyter-widgets/controls",
          "model_module_version": "1.5.0",
          "model_name": "FloatProgressModel",
          "state": {
            "_dom_classes": [],
            "_model_module": "@jupyter-widgets/controls",
            "_model_module_version": "1.5.0",
            "_model_name": "FloatProgressModel",
            "_view_count": null,
            "_view_module": "@jupyter-widgets/controls",
            "_view_module_version": "1.5.0",
            "_view_name": "ProgressView",
            "bar_style": "",
            "description": "",
            "description_tooltip": null,
            "layout": "IPY_MODEL_f0900fd350b6488db33fd3e58f7722a9",
            "max": 48,
            "min": 0,
            "orientation": "horizontal",
            "style": "IPY_MODEL_3d5cb9f0a36a47ae8c0682eae7da178d",
            "value": 48
          }
        },
        "cbff8c6232b34712b7720ac48c795d32": {
          "model_module": "@jupyter-widgets/controls",
          "model_module_version": "1.5.0",
          "model_name": "DescriptionStyleModel",
          "state": {
            "_model_module": "@jupyter-widgets/controls",
            "_model_module_version": "1.5.0",
            "_model_name": "DescriptionStyleModel",
            "_view_count": null,
            "_view_module": "@jupyter-widgets/base",
            "_view_module_version": "1.2.0",
            "_view_name": "StyleView",
            "description_width": ""
          }
        },
        "d56a882d5bf0484fbfc33bcbcacf4ee1": {
          "model_module": "@jupyter-widgets/controls",
          "model_module_version": "1.5.0",
          "model_name": "HTMLModel",
          "state": {
            "_dom_classes": [],
            "_model_module": "@jupyter-widgets/controls",
            "_model_module_version": "1.5.0",
            "_model_name": "HTMLModel",
            "_view_count": null,
            "_view_module": "@jupyter-widgets/controls",
            "_view_module_version": "1.5.0",
            "_view_name": "HTMLView",
            "description": "",
            "description_tooltip": null,
            "layout": "IPY_MODEL_97be35f0056a4fedbae8e89191243223",
            "placeholder": "​",
            "style": "IPY_MODEL_7dfbf42393f24fb08175168fdfb82f4c",
            "value": " 48/48 [01:22&lt;00:00,  1.76s/it]"
          }
        },
        "e238c2e4cc5e44d49d40b7be90778638": {
          "model_module": "@jupyter-widgets/controls",
          "model_module_version": "1.5.0",
          "model_name": "VBoxModel",
          "state": {
            "_dom_classes": [],
            "_model_module": "@jupyter-widgets/controls",
            "_model_module_version": "1.5.0",
            "_model_name": "VBoxModel",
            "_view_count": null,
            "_view_module": "@jupyter-widgets/controls",
            "_view_module_version": "1.5.0",
            "_view_name": "VBoxView",
            "box_style": "",
            "children": [
              "IPY_MODEL_441edf06378a41c2a47ce3e8eaa99b32",
              "IPY_MODEL_941b6a11770f457e85989ab59adb8b75"
            ],
            "layout": "IPY_MODEL_b636f406db294ce6bef3bd8e2d1d00cc"
          }
        },
        "e2410c21e58841ddacbe3783ecf4bd4b": {
          "model_module": "@jupyter-widgets/base",
          "model_module_version": "1.2.0",
          "model_name": "LayoutModel",
          "state": {
            "_model_module": "@jupyter-widgets/base",
            "_model_module_version": "1.2.0",
            "_model_name": "LayoutModel",
            "_view_count": null,
            "_view_module": "@jupyter-widgets/base",
            "_view_module_version": "1.2.0",
            "_view_name": "LayoutView",
            "align_content": null,
            "align_items": null,
            "align_self": null,
            "border": null,
            "bottom": null,
            "display": null,
            "flex": null,
            "flex_flow": null,
            "grid_area": null,
            "grid_auto_columns": null,
            "grid_auto_flow": null,
            "grid_auto_rows": null,
            "grid_column": null,
            "grid_gap": null,
            "grid_row": null,
            "grid_template_areas": null,
            "grid_template_columns": null,
            "grid_template_rows": null,
            "height": null,
            "justify_content": null,
            "justify_items": null,
            "left": null,
            "margin": null,
            "max_height": null,
            "max_width": null,
            "min_height": null,
            "min_width": null,
            "object_fit": null,
            "object_position": null,
            "order": null,
            "overflow": null,
            "overflow_x": null,
            "overflow_y": null,
            "padding": null,
            "right": null,
            "top": null,
            "visibility": null,
            "width": null
          }
        },
        "efd4b440794a4b68a15f75a536a68e3d": {
          "model_module": "@jupyter-widgets/base",
          "model_module_version": "1.2.0",
          "model_name": "LayoutModel",
          "state": {
            "_model_module": "@jupyter-widgets/base",
            "_model_module_version": "1.2.0",
            "_model_name": "LayoutModel",
            "_view_count": null,
            "_view_module": "@jupyter-widgets/base",
            "_view_module_version": "1.2.0",
            "_view_name": "LayoutView",
            "align_content": null,
            "align_items": null,
            "align_self": null,
            "border": null,
            "bottom": null,
            "display": null,
            "flex": null,
            "flex_flow": null,
            "grid_area": null,
            "grid_auto_columns": null,
            "grid_auto_flow": null,
            "grid_auto_rows": null,
            "grid_column": null,
            "grid_gap": null,
            "grid_row": null,
            "grid_template_areas": null,
            "grid_template_columns": null,
            "grid_template_rows": null,
            "height": null,
            "justify_content": null,
            "justify_items": null,
            "left": null,
            "margin": null,
            "max_height": null,
            "max_width": null,
            "min_height": null,
            "min_width": null,
            "object_fit": null,
            "object_position": null,
            "order": null,
            "overflow": null,
            "overflow_x": null,
            "overflow_y": null,
            "padding": null,
            "right": null,
            "top": null,
            "visibility": null,
            "width": null
          }
        },
        "f0900fd350b6488db33fd3e58f7722a9": {
          "model_module": "@jupyter-widgets/base",
          "model_module_version": "1.2.0",
          "model_name": "LayoutModel",
          "state": {
            "_model_module": "@jupyter-widgets/base",
            "_model_module_version": "1.2.0",
            "_model_name": "LayoutModel",
            "_view_count": null,
            "_view_module": "@jupyter-widgets/base",
            "_view_module_version": "1.2.0",
            "_view_name": "LayoutView",
            "align_content": null,
            "align_items": null,
            "align_self": null,
            "border": null,
            "bottom": null,
            "display": null,
            "flex": null,
            "flex_flow": null,
            "grid_area": null,
            "grid_auto_columns": null,
            "grid_auto_flow": null,
            "grid_auto_rows": null,
            "grid_column": null,
            "grid_gap": null,
            "grid_row": null,
            "grid_template_areas": null,
            "grid_template_columns": null,
            "grid_template_rows": null,
            "height": null,
            "justify_content": null,
            "justify_items": null,
            "left": null,
            "margin": null,
            "max_height": null,
            "max_width": null,
            "min_height": null,
            "min_width": null,
            "object_fit": null,
            "object_position": null,
            "order": null,
            "overflow": null,
            "overflow_x": null,
            "overflow_y": null,
            "padding": null,
            "right": null,
            "top": null,
            "visibility": null,
            "width": null
          }
        },
        "f1275f3628c74b14bfe49351b3c85613": {
          "model_module": "@jupyter-widgets/base",
          "model_module_version": "1.2.0",
          "model_name": "LayoutModel",
          "state": {
            "_model_module": "@jupyter-widgets/base",
            "_model_module_version": "1.2.0",
            "_model_name": "LayoutModel",
            "_view_count": null,
            "_view_module": "@jupyter-widgets/base",
            "_view_module_version": "1.2.0",
            "_view_name": "LayoutView",
            "align_content": null,
            "align_items": null,
            "align_self": null,
            "border": null,
            "bottom": null,
            "display": null,
            "flex": null,
            "flex_flow": null,
            "grid_area": null,
            "grid_auto_columns": null,
            "grid_auto_flow": null,
            "grid_auto_rows": null,
            "grid_column": null,
            "grid_gap": null,
            "grid_row": null,
            "grid_template_areas": null,
            "grid_template_columns": null,
            "grid_template_rows": null,
            "height": null,
            "justify_content": null,
            "justify_items": null,
            "left": null,
            "margin": null,
            "max_height": null,
            "max_width": null,
            "min_height": null,
            "min_width": null,
            "object_fit": null,
            "object_position": null,
            "order": null,
            "overflow": null,
            "overflow_x": null,
            "overflow_y": null,
            "padding": null,
            "right": null,
            "top": null,
            "visibility": null,
            "width": null
          }
        },
        "fd18ec8fcf6f49878d2efbadfbf08b4e": {
          "model_module": "@jupyter-widgets/base",
          "model_module_version": "1.2.0",
          "model_name": "LayoutModel",
          "state": {
            "_model_module": "@jupyter-widgets/base",
            "_model_module_version": "1.2.0",
            "_model_name": "LayoutModel",
            "_view_count": null,
            "_view_module": "@jupyter-widgets/base",
            "_view_module_version": "1.2.0",
            "_view_name": "LayoutView",
            "align_content": null,
            "align_items": null,
            "align_self": null,
            "border": null,
            "bottom": null,
            "display": null,
            "flex": null,
            "flex_flow": null,
            "grid_area": null,
            "grid_auto_columns": null,
            "grid_auto_flow": null,
            "grid_auto_rows": null,
            "grid_column": null,
            "grid_gap": null,
            "grid_row": null,
            "grid_template_areas": null,
            "grid_template_columns": null,
            "grid_template_rows": null,
            "height": null,
            "justify_content": null,
            "justify_items": null,
            "left": null,
            "margin": null,
            "max_height": null,
            "max_width": null,
            "min_height": null,
            "min_width": null,
            "object_fit": null,
            "object_position": null,
            "order": null,
            "overflow": null,
            "overflow_x": null,
            "overflow_y": null,
            "padding": null,
            "right": null,
            "top": null,
            "visibility": null,
            "width": null
          }
        }
      }
    }
  },
  "nbformat": 4,
  "nbformat_minor": 0
}
